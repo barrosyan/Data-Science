{
 "cells": [
  {
   "cell_type": "code",
   "execution_count": 2,
   "metadata": {},
   "outputs": [],
   "source": [
    "from selenium import webdriver\n",
    "from webdriver_manager.chrome import ChromeDriverManager\n",
    "import time\n",
    "from selenium.webdriver.common.by import By\n",
    "import os\n",
    "import requests\n",
    "import cv2\n",
    "import pytesseract\n"
   ]
  },
  {
   "cell_type": "code",
   "execution_count": 2,
   "metadata": {},
   "outputs": [
    {
     "name": "stderr",
     "output_type": "stream",
     "text": [
      "[WDM] - Downloading: 100%|██████████| 6.46M/6.46M [00:01<00:00, 4.77MB/s]\n",
      "C:\\Users\\Yan\\AppData\\Local\\Temp\\ipykernel_8948\\3573112589.py:1: DeprecationWarning: executable_path has been deprecated, please pass in a Service object\n",
      "  driver = webdriver.Chrome(ChromeDriverManager().install())\n"
     ]
    }
   ],
   "source": [
    "driver = webdriver.Chrome(ChromeDriverManager().install())\n",
    "driver.maximize_window()\n",
    "driver.get(\"https://www.instagram.com/\")\n",
    "\n",
    "time.sleep(5)"
   ]
  },
  {
   "cell_type": "code",
   "execution_count": 8,
   "metadata": {},
   "outputs": [],
   "source": [
    "driver.execute_script(\"window.scrollTo(0,4000);\")"
   ]
  },
  {
   "cell_type": "code",
   "execution_count": 17,
   "metadata": {},
   "outputs": [
    {
     "data": {
      "text/plain": [
       "['https://instagram.fnat16-1.fna.fbcdn.net/v/t51.2885-19/243560201_299670018310969_1014581704583199428_n.jpg?stp=dst-jpg_s150x150&_nc_ht=instagram.fnat16-1.fna.fbcdn.net&_nc_cat=101&_nc_ohc=RBPvVvvQpLcAX-PVuB4&edm=AOQ1c0wBAAAA&ccb=7-5&oh=00_AfBm6b6wEM8GOHh8vFxAMrhGJzsERG-ku7WTMRNGR2q3dw&oe=638A7F1B&_nc_sid=8fd12b',\n",
       " 'https://instagram.fnat16-1.fna.fbcdn.net/v/t51.2885-15/124567711_133345544844992_4236821978663987110_n.jpg?stp=c0.524.1080.1080a_dst-jpg_e35_s150x150&_nc_ht=instagram.fnat16-1.fna.fbcdn.net&_nc_cat=108&_nc_ohc=Ms1ndXU7sNYAX_qdB5-&edm=AGW0Xe4BAAAA&ccb=7-5&oh=00_AfCmTDeNOd9jpoKKgCuHUFXgVvdm9MClvNk2yNjpSC7YgQ&oe=6386BAAE&_nc_sid=acd11b',\n",
       " 'https://instagram.fnat16-1.fna.fbcdn.net/v/t51.2885-15/118695972_2752085095015001_3818635728627606401_n.jpg?stp=dst-jpg_s150x150&_nc_ht=instagram.fnat16-1.fna.fbcdn.net&_nc_cat=105&_nc_ohc=MilQQLH84PYAX9qjZo1&tn=89bCLPsHqYMudACx&edm=AGW0Xe4BAAAA&ccb=7-5&oh=00_AfDJlaZZlClp_xnHTq4t0mKifZ_3FoMhy05JW2udpt9dZQ&oe=638B18D6&_nc_sid=acd11b',\n",
       " 'https://instagram.fnat16-1.fna.fbcdn.net/v/t51.2885-15/118240761_399916000989313_3496308948018416757_n.jpg?stp=dst-jpg_s150x150&_nc_ht=instagram.fnat16-1.fna.fbcdn.net&_nc_cat=101&_nc_ohc=SHLJcfRKZRMAX-vnD4a&edm=AGW0Xe4BAAAA&ccb=7-5&oh=00_AfC3BkTGObE5rkCwSBb5aE4cuUHxlug1_vlonawOPOhFIg&oe=638A007F&_nc_sid=acd11b',\n",
       " 'https://instagram.fnat16-1.fna.fbcdn.net/v/t51.2885-15/315653208_1443779589476958_2071762102191583755_n.webp?stp=dst-jpg_e35&_nc_ht=instagram.fnat16-1.fna.fbcdn.net&_nc_cat=106&_nc_ohc=YbzJwIlCNZkAX_B8DxH&edm=AOQ1c0wBAAAA&ccb=7-5&oh=00_AfD922VToveCcvr6eP9U0iSjACUCOqBTtfMaxFynpoSqjQ&oe=6389A05A&_nc_sid=8fd12b',\n",
       " 'https://instagram.fnat16-1.fna.fbcdn.net/v/t51.2885-15/310931301_498383951891345_6760934977651771393_n.webp?stp=dst-jpg_e35&_nc_ht=instagram.fnat16-1.fna.fbcdn.net&_nc_cat=105&_nc_ohc=08OZ3Mo_9RUAX9HX1qy&tn=89bCLPsHqYMudACx&edm=AOQ1c0wBAAAA&ccb=7-5&oh=00_AfCRPUpCoZep6Zeu1qaI34wg76U52c8E4FY2OiIoO99cHA&oe=638AACF7&_nc_sid=8fd12b',\n",
       " 'https://instagram.fnat16-1.fna.fbcdn.net/v/t51.2885-15/307592063_1112419136072602_7553697662222347699_n.jpg?stp=c0.180.1440.1440a_dst-jpg_e35_s640x640_sh0.08&_nc_ht=instagram.fnat16-1.fna.fbcdn.net&_nc_cat=110&_nc_ohc=jsVdk2GTtoUAX-5TWun&edm=AOQ1c0wBAAAA&ccb=7-5&oh=00_AfD04hxZtCVG-X-4NeyLmDqy-NmQMSI4XOGs8oGIVFxihA&oe=63899766&_nc_sid=8fd12b',\n",
       " 'https://instagram.fnat16-1.fna.fbcdn.net/v/t51.2885-15/307436051_593872068980749_5954300653665043396_n.jpg?stp=dst-jpg_e35_s1080x1080&_nc_ht=instagram.fnat16-1.fna.fbcdn.net&_nc_cat=101&_nc_ohc=4-mSRODhyp8AX_DsJY7&edm=AOQ1c0wBAAAA&ccb=7-5&oh=00_AfC-p6nXk15DomWukaZUT_V6d3t9be3Bu3pJdxhIDS0yAg&oe=6389A3EE&_nc_sid=8fd12b',\n",
       " 'https://instagram.fnat16-1.fna.fbcdn.net/v/t51.2885-15/301490386_484959943018319_1800100223399493565_n.webp?stp=dst-jpg_e35&_nc_ht=instagram.fnat16-1.fna.fbcdn.net&_nc_cat=111&_nc_ohc=1E9MY3Q-VDIAX_d_S_n&edm=AOQ1c0wBAAAA&ccb=7-5&oh=00_AfDyGU_nqLQHxDgiZ193rEzSDtizVlQkQsTIbcpDrL5dbA&oe=638997D0&_nc_sid=8fd12b',\n",
       " 'https://instagram.fnat16-1.fna.fbcdn.net/v/t51.2885-15/299556090_388858900051987_5482348173461941436_n.jpg?stp=dst-jpg_e35_p1080x1080&_nc_ht=instagram.fnat16-1.fna.fbcdn.net&_nc_cat=107&_nc_ohc=vgLJXaM7MZAAX_FCbgi&edm=AOQ1c0wBAAAA&ccb=7-5&oh=00_AfAahrGdTJu3W2uZ63xFK8ED1Bif1pDVwN1FHq52ddbl1Q&oe=63898E4E&_nc_sid=8fd12b',\n",
       " 'https://instagram.fnat16-1.fna.fbcdn.net/v/t51.2885-15/294954307_476089797681448_1181974828827438151_n.webp?stp=c236.0.608.608a_dst-jpg_e35&_nc_ht=instagram.fnat16-1.fna.fbcdn.net&_nc_cat=104&_nc_ohc=zsGfXXSmNCkAX9NaUIT&edm=AOQ1c0wBAAAA&ccb=7-5&oh=00_AfALqN1wE1fw4D8taqzxhhwI7A0YUb9xTJfXhlsgYpiR4w&oe=638997A5&_nc_sid=8fd12b',\n",
       " 'https://instagram.fnat16-1.fna.fbcdn.net/v/t51.2885-15/294627655_983281159034301_8122177533905974558_n.jpg?stp=dst-jpg_e35_p1080x1080&_nc_ht=instagram.fnat16-1.fna.fbcdn.net&_nc_cat=109&_nc_ohc=7RKjkVPBuwsAX-OcB8d&edm=AOQ1c0wBAAAA&ccb=7-5&oh=00_AfB3gWkTObt0UBhr0kvakHFpGt1_e1rhPuTB85zhk4iW-g&oe=638A17D2&_nc_sid=8fd12b',\n",
       " 'https://instagram.fnat16-1.fna.fbcdn.net/v/t51.2885-15/294482674_1068157397473084_1147532493558336236_n.webp?stp=dst-jpg_e35_s640x640_sh0.08&_nc_ht=instagram.fnat16-1.fna.fbcdn.net&_nc_cat=104&_nc_ohc=YY9UZ65YrOEAX9tdL-m&edm=AOQ1c0wBAAAA&ccb=7-5&oh=00_AfAVCmNhDSSxLXNT0xSoCZFzTR_QhcXEVA9SjEjwYPkySA&oe=638A9CCB&_nc_sid=8fd12b',\n",
       " 'https://instagram.fnat16-1.fna.fbcdn.net/v/t51.2885-15/294109302_1408141659668340_1020518541744729547_n.jpg?stp=c0.280.720.720a_dst-jpg_e15_s640x640&_nc_ht=instagram.fnat16-1.fna.fbcdn.net&_nc_cat=100&_nc_ohc=4Sl0WV6RPuYAX9y16As&edm=AOQ1c0wBAAAA&ccb=7-5&oh=00_AfB8ce13zKyt3dXZLjxkEpHS6JG7MKrLCyZl5zRQeBDoeQ&oe=6386B8CE&_nc_sid=8fd12b',\n",
       " 'https://instagram.fnat16-1.fna.fbcdn.net/v/t51.2885-15/291087787_500689751855448_9088143106185259661_n.jpg?stp=c0.424.1072.1072a_dst-jpg_e15_s640x640&_nc_ht=instagram.fnat16-1.fna.fbcdn.net&_nc_cat=100&_nc_ohc=QO8GkKj4NoIAX8gs8Mo&tn=89bCLPsHqYMudACx&edm=AOQ1c0wBAAAA&ccb=7-5&oh=00_AfCLntFUq7T-9yaxRogrpiMVNV7uhIbOXNuBwDutyCFn3w&oe=638718FD&_nc_sid=8fd12b',\n",
       " 'https://instagram.fnat16-1.fna.fbcdn.net/v/t51.2885-15/288655342_753755505793158_3590552010874980899_n.jpg?stp=c0.424.1072.1072a_dst-jpg_e15_s640x640&_nc_ht=instagram.fnat16-1.fna.fbcdn.net&_nc_cat=106&_nc_ohc=p_Quk6ArVZcAX_PkzHC&edm=AOQ1c0wBAAAA&ccb=7-5&oh=00_AfC0frAZHYhKOcrn201LCSGSypI-CDMWzOO_-8_QlKTwXQ&oe=6386F3E9&_nc_sid=8fd12b',\n",
       " 'https://instagram.fnat16-1.fna.fbcdn.net/v/t51.2885-15/284074734_724124031964090_7835334902057862989_n.webp?stp=dst-jpg_e35&_nc_ht=instagram.fnat16-1.fna.fbcdn.net&_nc_cat=110&_nc_ohc=hTJv09Z7AJEAX8houGg&edm=APU89FABAAAA&ccb=7-5&oh=00_AfCtT8byIYl1Hw_rZMeKauZwvKz1UflIL3SKQ6_zjHBgIw&oe=6389E774&_nc_sid=86f79a',\n",
       " 'https://instagram.fnat16-1.fna.fbcdn.net/v/t51.2885-15/284142195_334714952121425_4724814055525819181_n.webp?stp=c236.0.608.608a_dst-jpg_e35&_nc_ht=instagram.fnat16-1.fna.fbcdn.net&_nc_cat=105&_nc_ohc=7WHSWUNJungAX9UzUpU&edm=APU89FABAAAA&ccb=7-5&oh=00_AfD36MGD6McvXCP1N6_3po2obF5iPOkOE2PO0uVlbPWGdQ&oe=638B20A7&_nc_sid=86f79a',\n",
       " 'https://instagram.fnat16-1.fna.fbcdn.net/v/t51.2885-15/280693986_424317556363250_661000797590615794_n.webp?stp=dst-jpg_e35&_nc_ht=instagram.fnat16-1.fna.fbcdn.net&_nc_cat=102&_nc_ohc=sah7GmvjZC8AX8eo7wx&edm=APU89FABAAAA&ccb=7-5&oh=00_AfDJ47wQMC64yyyAuD93fEt5A5RPCP8gX1AnLhmD2VSWsQ&oe=638B1FF3&_nc_sid=86f79a',\n",
       " 'https://instagram.fnat16-1.fna.fbcdn.net/v/t51.2885-15/275330387_663319728257558_6112251233187025999_n.jpg?stp=c0.90.720.720a_dst-jpg_e35_s640x640_sh0.08&_nc_ht=instagram.fnat16-1.fna.fbcdn.net&_nc_cat=102&_nc_ohc=gYKKruzO0ocAX8UFGy4&edm=APU89FABAAAA&ccb=7-5&oh=00_AfA-4IvpkUkDPoW6gh8ykfFXvAP_HIeFr-AtKoIhSbiiFw&oe=63874B20&_nc_sid=86f79a',\n",
       " 'https://instagram.fnat16-1.fna.fbcdn.net/v/t51.2885-15/275461614_339357194785724_4818595198772515437_n.jpg?stp=c0.150.540.540a_dst-jpg_e15&_nc_ht=instagram.fnat16-1.fna.fbcdn.net&_nc_cat=108&_nc_ohc=wKLMnbAgOpwAX8YAByU&edm=APU89FABAAAA&ccb=7-5&oh=00_AfAcggoHgwOdkfIKdjzeMyN9dJ6gEe_kM2z4Z9PXjMjRzA&oe=6386E2E2&_nc_sid=86f79a',\n",
       " 'https://instagram.fnat16-1.fna.fbcdn.net/v/t51.2885-15/271925345_503393644427790_1908121527697951648_n.webp?stp=dst-jpg_e35_s640x640_sh0.08&_nc_ht=instagram.fnat16-1.fna.fbcdn.net&_nc_cat=106&_nc_ohc=FD4XHBD9y4YAX9BvZlQ&edm=APU89FABAAAA&ccb=7-5&oh=00_AfDuPKqaN4WX5u69f9qH-tqqkgSQ0OLy7B38QqLByk7jlQ&oe=638B3FD9&_nc_sid=86f79a',\n",
       " 'https://instagram.fnat16-1.fna.fbcdn.net/v/t51.2885-15/261318308_600781687810983_1665445372376896846_n.jpg?stp=c179.0.1081.1081a_dst-jpg_e35_s640x640_sh0.08&_nc_ht=instagram.fnat16-1.fna.fbcdn.net&_nc_cat=103&_nc_ohc=sg2t9QS45EIAX9Aw2pv&edm=APU89FABAAAA&ccb=7-5&oh=00_AfCgMTO-3nVx_biFsDTIimkkErPN175Ugoqv4nG1hKUtxA&oe=6389C2EC&_nc_sid=86f79a',\n",
       " 'https://instagram.fnat16-1.fna.fbcdn.net/v/t51.2885-15/247522906_404514577992379_3849600264964278892_n.jpg?stp=c0.60.480.480a_dst-jpg_e35&_nc_ht=instagram.fnat16-1.fna.fbcdn.net&_nc_cat=107&_nc_ohc=z1L8l7umBBwAX9uROEN&tn=89bCLPsHqYMudACx&edm=APU89FABAAAA&ccb=7-5&oh=00_AfCQgszAkzPQo9hZW-Jcz80QQYIgRxldhe9uMJYQReQkbQ&oe=6386E73C&_nc_sid=86f79a',\n",
       " 'https://instagram.fnat16-1.fna.fbcdn.net/v/t51.2885-15/245087062_555717645729370_5317604370848876671_n.jpg?stp=c0.135.1080.1080a_dst-jpg_e35_s640x640_sh0.08&_nc_ht=instagram.fnat16-1.fna.fbcdn.net&_nc_cat=110&_nc_ohc=oGIBa9NbTOYAX_Hd42j&edm=APU89FABAAAA&ccb=7-5&oh=00_AfC5WOUsThhnNgCgYYmwn9B1I4IcjVRex96UF6dV4IAneQ&oe=638A9D6A&_nc_sid=86f79a',\n",
       " 'https://instagram.fnat16-1.fna.fbcdn.net/v/t51.2885-15/244764166_595032494869339_274993830462106689_n.webp?stp=c0.135.1080.1080a_dst-jpg_e35_s640x640_sh0.08&_nc_ht=instagram.fnat16-1.fna.fbcdn.net&_nc_cat=107&_nc_ohc=lQHSVL37M0MAX_int9b&edm=APU89FABAAAA&ccb=7-5&oh=00_AfAyzw0v2c1M1XfUlTaZX1hHO75mPscoRHFZpskQC-pVdw&oe=638ADACC&_nc_sid=86f79a',\n",
       " 'https://instagram.fnat16-1.fna.fbcdn.net/v/t51.2885-15/244622574_903958487196810_447194449666432410_n.webp?stp=dst-jpg_e35&_nc_ht=instagram.fnat16-1.fna.fbcdn.net&_nc_cat=106&_nc_ohc=sW51eGQFECMAX8RZ0nG&edm=APU89FABAAAA&ccb=7-5&oh=00_AfAztS3i_2ysYhT2G2Ur506zSS4AUZVYQA-UgUT1_e6xdQ&oe=638B01B5&_nc_sid=86f79a',\n",
       " 'https://instagram.fnat16-1.fna.fbcdn.net/v/t51.2885-15/244023270_994626964418032_4812432068562477909_n.webp?stp=dst-jpg_e35&_nc_ht=instagram.fnat16-1.fna.fbcdn.net&_nc_cat=104&_nc_ohc=ORMDbzfXCwgAX-X1a_8&edm=APU89FABAAAA&ccb=7-5&oh=00_AfA5l-VrTkXHJ2VLdZs3-T5q6HRDzIyeoZQgSBBkbG5ltA&oe=638A451D&_nc_sid=86f79a',\n",
       " 'https://instagram.fnat16-1.fna.fbcdn.net/v/t51.2885-15/233781195_968431027062854_7778112243856708427_n.jpg?stp=dst-jpg_e35&_nc_ht=instagram.fnat16-1.fna.fbcdn.net&_nc_cat=102&_nc_ohc=U2t7eNKSwN0AX8dHdBG&edm=APU89FABAAAA&ccb=7-5&oh=00_AfAkq32-_EH58OWiTBiDzYUnH6RgMcQocqABVpTiJisTaw&oe=638AA57D&_nc_sid=86f79a',\n",
       " 'https://instagram.fnat16-1.fna.fbcdn.net/v/t51.2885-15/225603651_608382146798380_6682672411752591844_n.jpg?stp=dst-jpg_e35&_nc_ht=instagram.fnat16-1.fna.fbcdn.net&_nc_cat=104&_nc_ohc=VboSOEISSVoAX-Dtzo7&edm=APU89FABAAAA&ccb=7-5&oh=00_AfBJaZ1nl5-1R4tN7mpCP0fc7NSXFFpxr7vPu_qFA_sJOg&oe=638A167F&_nc_sid=86f79a',\n",
       " 'https://instagram.fnat16-1.fna.fbcdn.net/v/t51.2885-15/222316435_1020089118818848_8831690510882776328_n.jpg?stp=dst-jpg_e35_s640x640_sh0.08&_nc_ht=instagram.fnat16-1.fna.fbcdn.net&_nc_cat=104&_nc_ohc=megUFXksSqMAX8PPZI1&tn=89bCLPsHqYMudACx&edm=APU89FABAAAA&ccb=7-5&oh=00_AfDZwyT__dHNczMmp9KlbhNOg_DWxnNRrvbwB4kcRP1v3g&oe=63896EF4&_nc_sid=86f79a',\n",
       " 'https://instagram.fnat16-1.fna.fbcdn.net/v/t51.2885-15/218379000_792242388157384_2358126467222023148_n.jpg?stp=c152.0.336.336a_dst-jpg_e35&_nc_ht=instagram.fnat16-1.fna.fbcdn.net&_nc_cat=104&_nc_ohc=nxeCpdpaEOkAX8P4i5p&tn=89bCLPsHqYMudACx&edm=APU89FABAAAA&ccb=7-5&oh=00_AfCVMR5YMa6Iep2Y9Bf8k0lDfNcjRHMcjUbD1MX4iXklBA&oe=6386BE3E&_nc_sid=86f79a',\n",
       " 'https://instagram.fnat16-1.fna.fbcdn.net/v/t51.2885-15/194367244_520421308972337_677151213049965922_n.jpg?stp=dst-jpg_e35&_nc_ht=instagram.fnat16-1.fna.fbcdn.net&_nc_cat=105&_nc_ohc=QY2I2z-3f74AX9PzQM5&edm=APU89FABAAAA&ccb=7-5&oh=00_AfDSpV8lKW1Kinl9LmmwAt-REZnabtCY71A4fhvYojsABw&oe=638AEB84&_nc_sid=86f79a',\n",
       " 'https://instagram.fnat16-1.fna.fbcdn.net/v/t51.2885-15/191412149_4035728529806907_6923864688180472668_n.jpg?stp=dst-jpg_e35&_nc_ht=instagram.fnat16-1.fna.fbcdn.net&_nc_cat=103&_nc_ohc=p1qp_D3R5G4AX8ATZWs&edm=APU89FABAAAA&ccb=7-5&oh=00_AfBHQMdBijkOPw_hPkY_pD_LoQ1jwA5i4O03sIJcDpIIhQ&oe=63897BFC&_nc_sid=86f79a',\n",
       " 'https://instagram.fnat16-1.fna.fbcdn.net/v/t51.2885-15/175776416_480083210010690_324826809338803804_n.jpg?stp=dst-jpg_e35&_nc_ht=instagram.fnat16-1.fna.fbcdn.net&_nc_cat=106&_nc_ohc=d5f6I2CI3SsAX8TOFNc&edm=APU89FABAAAA&ccb=7-5&oh=00_AfC2bbct2tNREw5OYAJJrZCJrROZUekI1fQI7XtP9Rzdlw&oe=638A4A9B&_nc_sid=86f79a',\n",
       " 'https://instagram.fnat16-1.fna.fbcdn.net/v/t51.2885-15/163339658_123010039732091_8123422683222968509_n.jpg?stp=c0.90.720.720a_dst-jpg_e35_s640x640_sh0.08&_nc_ht=instagram.fnat16-1.fna.fbcdn.net&_nc_cat=111&_nc_ohc=lEP7O8XFdQEAX_WQrnp&edm=APU89FABAAAA&ccb=7-5&oh=00_AfBDH5NDOcHjEoIacoS1tvy2LoC8jf_87Lx0Cq3c7qEJGQ&oe=63871611&_nc_sid=86f79a',\n",
       " 'https://instagram.fnat16-1.fna.fbcdn.net/v/t51.2885-15/132619990_437774217606528_4589364881525303933_n.jpg?stp=dst-jpg_e35&_nc_ht=instagram.fnat16-1.fna.fbcdn.net&_nc_cat=100&_nc_ohc=NSeV8AYTe58AX_xjkv9&tn=89bCLPsHqYMudACx&edm=APU89FABAAAA&ccb=7-5&oh=00_AfC8sJV533q8c5HoC-V1zffqfS-MQGX01Nt6y-sKIn1gig&oe=638B07A3&_nc_sid=86f79a',\n",
       " 'https://instagram.fnat16-1.fna.fbcdn.net/v/t51.2885-19/243560201_299670018310969_1014581704583199428_n.jpg?stp=dst-jpg_s150x150&_nc_ht=instagram.fnat16-1.fna.fbcdn.net&_nc_cat=101&_nc_ohc=RBPvVvvQpLcAX-PVuB4&edm=AOQ1c0wBAAAA&ccb=7-5&oh=00_AfBm6b6wEM8GOHh8vFxAMrhGJzsERG-ku7WTMRNGR2q3dw&oe=638A7F1B&_nc_sid=8fd12b']"
      ]
     },
     "execution_count": 17,
     "metadata": {},
     "output_type": "execute_result"
    }
   ],
   "source": [
    "images = driver.find_elements(By.TAG_NAME, \"img\")\n",
    "images = [image.get_attribute('src') for image in images]\n",
    "images"
   ]
  },
  {
   "cell_type": "code",
   "execution_count": 5,
   "metadata": {},
   "outputs": [
    {
     "data": {
      "text/plain": [
       "'c:\\\\Users\\\\Yan\\\\Desktop\\\\YAN\\\\barrosyaninsta'"
      ]
     },
     "execution_count": 5,
     "metadata": {},
     "output_type": "execute_result"
    }
   ],
   "source": [
    "path = os.getcwd()\n",
    "path = os.path.join(path, 'barrosyaninsta')\n",
    "\n",
    "os.mkdir(path)\n",
    "path\n"
   ]
  },
  {
   "cell_type": "code",
   "execution_count": 6,
   "metadata": {},
   "outputs": [
    {
     "ename": "NameError",
     "evalue": "name 'images' is not defined",
     "output_type": "error",
     "traceback": [
      "\u001b[1;31m---------------------------------------------------------------------------\u001b[0m",
      "\u001b[1;31mNameError\u001b[0m                                 Traceback (most recent call last)",
      "Cell \u001b[1;32mIn [6], line 2\u001b[0m\n\u001b[0;32m      1\u001b[0m i \u001b[39m=\u001b[39m \u001b[39m0\u001b[39m\n\u001b[1;32m----> 2\u001b[0m \u001b[39mfor\u001b[39;00m image \u001b[39min\u001b[39;00m images:\n\u001b[0;32m      3\u001b[0m     img_data \u001b[39m=\u001b[39m requests\u001b[39m.\u001b[39mget(image)\u001b[39m.\u001b[39mcontent\n\u001b[0;32m      4\u001b[0m     \u001b[39mwith\u001b[39;00m \u001b[39mopen\u001b[39m(\u001b[39m'\u001b[39m\u001b[39mimage_name\u001b[39m\u001b[39m'\u001b[39m\u001b[39m+\u001b[39m\u001b[39mstr\u001b[39m(i)\u001b[39m+\u001b[39m\u001b[39m'\u001b[39m\u001b[39m.jpg\u001b[39m\u001b[39m'\u001b[39m, \u001b[39m'\u001b[39m\u001b[39mwb\u001b[39m\u001b[39m'\u001b[39m) \u001b[39mas\u001b[39;00m handler:\n",
      "\u001b[1;31mNameError\u001b[0m: name 'images' is not defined"
     ]
    }
   ],
   "source": [
    "i = 0\n",
    "for image in images:\n",
    "    img_data = requests.get(image).content\n",
    "    with open('image_name'+str(i)+'.jpg', 'wb') as handler:\n",
    "        handler.write(img_data)\n",
    "        i+=1"
   ]
  },
  {
   "cell_type": "code",
   "execution_count": 14,
   "metadata": {},
   "outputs": [
    {
     "ename": "TesseractError",
     "evalue": "(1, 'Error opening data file C:\\\\Users\\\\Yan\\\\Desktop\\\\YAN\\\\Tesseract-OCR/tessdata/for.traineddata Please make sure the TESSDATA_PREFIX environment variable is set to your \"tessdata\" directory. Failed loading language \\'for\\' Tesseract couldn\\'t load any languages! Could not initialize tesseract.')",
     "output_type": "error",
     "traceback": [
      "\u001b[1;31m---------------------------------------------------------------------------\u001b[0m",
      "\u001b[1;31mTesseractError\u001b[0m                            Traceback (most recent call last)",
      "Cell \u001b[1;32mIn [14], line 5\u001b[0m\n\u001b[0;32m      3\u001b[0m imagem \u001b[39m=\u001b[39m cv2\u001b[39m.\u001b[39mimread(\u001b[39m'\u001b[39m\u001b[39mimage_name\u001b[39m\u001b[39m'\u001b[39m\u001b[39m+\u001b[39m\u001b[39mstr\u001b[39m(i)\u001b[39m+\u001b[39m\u001b[39m'\u001b[39m\u001b[39m.jpg\u001b[39m\u001b[39m'\u001b[39m)\n\u001b[0;32m      4\u001b[0m pytesseract\u001b[39m.\u001b[39mpytesseract\u001b[39m.\u001b[39mtesseract_cmd \u001b[39m=\u001b[39m path\u001b[39m+\u001b[39m\u001b[39mr\u001b[39m\u001b[39m'\u001b[39m\u001b[39m\\\u001b[39m\u001b[39mtesseract.exe\u001b[39m\u001b[39m'\u001b[39m\n\u001b[1;32m----> 5\u001b[0m texto \u001b[39m=\u001b[39m pytesseract\u001b[39m.\u001b[39;49mimage_to_string(imagem, lang\u001b[39m=\u001b[39;49m\u001b[39m\"\u001b[39;49m\u001b[39mfor\u001b[39;49m\u001b[39m\"\u001b[39;49m)\n\u001b[0;32m      6\u001b[0m \u001b[39mprint\u001b[39m(texto) \n",
      "File \u001b[1;32mc:\\Users\\Yan\\AppData\\Local\\Programs\\Python\\Python310\\lib\\site-packages\\pytesseract\\pytesseract.py:423\u001b[0m, in \u001b[0;36mimage_to_string\u001b[1;34m(image, lang, config, nice, output_type, timeout)\u001b[0m\n\u001b[0;32m    418\u001b[0m \u001b[39m\"\"\"\u001b[39;00m\n\u001b[0;32m    419\u001b[0m \u001b[39mReturns the result of a Tesseract OCR run on the provided image to string\u001b[39;00m\n\u001b[0;32m    420\u001b[0m \u001b[39m\"\"\"\u001b[39;00m\n\u001b[0;32m    421\u001b[0m args \u001b[39m=\u001b[39m [image, \u001b[39m'\u001b[39m\u001b[39mtxt\u001b[39m\u001b[39m'\u001b[39m, lang, config, nice, timeout]\n\u001b[1;32m--> 423\u001b[0m \u001b[39mreturn\u001b[39;00m {\n\u001b[0;32m    424\u001b[0m     Output\u001b[39m.\u001b[39;49mBYTES: \u001b[39mlambda\u001b[39;49;00m: run_and_get_output(\u001b[39m*\u001b[39;49m(args \u001b[39m+\u001b[39;49m [\u001b[39mTrue\u001b[39;49;00m])),\n\u001b[0;32m    425\u001b[0m     Output\u001b[39m.\u001b[39;49mDICT: \u001b[39mlambda\u001b[39;49;00m: {\u001b[39m'\u001b[39;49m\u001b[39mtext\u001b[39;49m\u001b[39m'\u001b[39;49m: run_and_get_output(\u001b[39m*\u001b[39;49margs)},\n\u001b[0;32m    426\u001b[0m     Output\u001b[39m.\u001b[39;49mSTRING: \u001b[39mlambda\u001b[39;49;00m: run_and_get_output(\u001b[39m*\u001b[39;49margs),\n\u001b[0;32m    427\u001b[0m }[output_type]()\n",
      "File \u001b[1;32mc:\\Users\\Yan\\AppData\\Local\\Programs\\Python\\Python310\\lib\\site-packages\\pytesseract\\pytesseract.py:426\u001b[0m, in \u001b[0;36mimage_to_string.<locals>.<lambda>\u001b[1;34m()\u001b[0m\n\u001b[0;32m    418\u001b[0m \u001b[39m\"\"\"\u001b[39;00m\n\u001b[0;32m    419\u001b[0m \u001b[39mReturns the result of a Tesseract OCR run on the provided image to string\u001b[39;00m\n\u001b[0;32m    420\u001b[0m \u001b[39m\"\"\"\u001b[39;00m\n\u001b[0;32m    421\u001b[0m args \u001b[39m=\u001b[39m [image, \u001b[39m'\u001b[39m\u001b[39mtxt\u001b[39m\u001b[39m'\u001b[39m, lang, config, nice, timeout]\n\u001b[0;32m    423\u001b[0m \u001b[39mreturn\u001b[39;00m {\n\u001b[0;32m    424\u001b[0m     Output\u001b[39m.\u001b[39mBYTES: \u001b[39mlambda\u001b[39;00m: run_and_get_output(\u001b[39m*\u001b[39m(args \u001b[39m+\u001b[39m [\u001b[39mTrue\u001b[39;00m])),\n\u001b[0;32m    425\u001b[0m     Output\u001b[39m.\u001b[39mDICT: \u001b[39mlambda\u001b[39;00m: {\u001b[39m'\u001b[39m\u001b[39mtext\u001b[39m\u001b[39m'\u001b[39m: run_and_get_output(\u001b[39m*\u001b[39margs)},\n\u001b[1;32m--> 426\u001b[0m     Output\u001b[39m.\u001b[39mSTRING: \u001b[39mlambda\u001b[39;00m: run_and_get_output(\u001b[39m*\u001b[39;49margs),\n\u001b[0;32m    427\u001b[0m }[output_type]()\n",
      "File \u001b[1;32mc:\\Users\\Yan\\AppData\\Local\\Programs\\Python\\Python310\\lib\\site-packages\\pytesseract\\pytesseract.py:288\u001b[0m, in \u001b[0;36mrun_and_get_output\u001b[1;34m(image, extension, lang, config, nice, timeout, return_bytes)\u001b[0m\n\u001b[0;32m    277\u001b[0m \u001b[39mwith\u001b[39;00m save(image) \u001b[39mas\u001b[39;00m (temp_name, input_filename):\n\u001b[0;32m    278\u001b[0m     kwargs \u001b[39m=\u001b[39m {\n\u001b[0;32m    279\u001b[0m         \u001b[39m'\u001b[39m\u001b[39minput_filename\u001b[39m\u001b[39m'\u001b[39m: input_filename,\n\u001b[0;32m    280\u001b[0m         \u001b[39m'\u001b[39m\u001b[39moutput_filename_base\u001b[39m\u001b[39m'\u001b[39m: temp_name,\n\u001b[1;32m   (...)\u001b[0m\n\u001b[0;32m    285\u001b[0m         \u001b[39m'\u001b[39m\u001b[39mtimeout\u001b[39m\u001b[39m'\u001b[39m: timeout,\n\u001b[0;32m    286\u001b[0m     }\n\u001b[1;32m--> 288\u001b[0m     run_tesseract(\u001b[39m*\u001b[39m\u001b[39m*\u001b[39mkwargs)\n\u001b[0;32m    289\u001b[0m     filename \u001b[39m=\u001b[39m \u001b[39mf\u001b[39m\u001b[39m\"\u001b[39m\u001b[39m{\u001b[39;00mkwargs[\u001b[39m'\u001b[39m\u001b[39moutput_filename_base\u001b[39m\u001b[39m'\u001b[39m]\u001b[39m}\u001b[39;00m\u001b[39m{\u001b[39;00mextsep\u001b[39m}\u001b[39;00m\u001b[39m{\u001b[39;00mextension\u001b[39m}\u001b[39;00m\u001b[39m\"\u001b[39m\n\u001b[0;32m    290\u001b[0m     \u001b[39mwith\u001b[39;00m \u001b[39mopen\u001b[39m(filename, \u001b[39m'\u001b[39m\u001b[39mrb\u001b[39m\u001b[39m'\u001b[39m) \u001b[39mas\u001b[39;00m output_file:\n",
      "File \u001b[1;32mc:\\Users\\Yan\\AppData\\Local\\Programs\\Python\\Python310\\lib\\site-packages\\pytesseract\\pytesseract.py:264\u001b[0m, in \u001b[0;36mrun_tesseract\u001b[1;34m(input_filename, output_filename_base, extension, lang, config, nice, timeout)\u001b[0m\n\u001b[0;32m    262\u001b[0m \u001b[39mwith\u001b[39;00m timeout_manager(proc, timeout) \u001b[39mas\u001b[39;00m error_string:\n\u001b[0;32m    263\u001b[0m     \u001b[39mif\u001b[39;00m proc\u001b[39m.\u001b[39mreturncode:\n\u001b[1;32m--> 264\u001b[0m         \u001b[39mraise\u001b[39;00m TesseractError(proc\u001b[39m.\u001b[39mreturncode, get_errors(error_string))\n",
      "\u001b[1;31mTesseractError\u001b[0m: (1, 'Error opening data file C:\\\\Users\\\\Yan\\\\Desktop\\\\YAN\\\\Tesseract-OCR/tessdata/for.traineddata Please make sure the TESSDATA_PREFIX environment variable is set to your \"tessdata\" directory. Failed loading language \\'for\\' Tesseract couldn\\'t load any languages! Could not initialize tesseract.')"
     ]
    }
   ],
   "source": [
    "for i in range(0,38):\n",
    "    path = r\"C:\\Users\\Yan\\Desktop\\YAN\\Tesseract-OCR\"\n",
    "    imagem = cv2.imread('image_name'+str(i)+'.jpg')\n",
    "    pytesseract.pytesseract.tesseract_cmd = path+r'\\tesseract.exe'\n",
    "    texto = pytesseract.image_to_string(imagem, lang=\"for\")\n",
    "    print(texto) "
   ]
  },
  {
   "cell_type": "code",
   "execution_count": null,
   "metadata": {},
   "outputs": [],
   "source": []
  }
 ],
 "metadata": {
  "kernelspec": {
   "display_name": "Python 3.10.6 64-bit",
   "language": "python",
   "name": "python3"
  },
  "language_info": {
   "codemirror_mode": {
    "name": "ipython",
    "version": 3
   },
   "file_extension": ".py",
   "mimetype": "text/x-python",
   "name": "python",
   "nbconvert_exporter": "python",
   "pygments_lexer": "ipython3",
   "version": "3.10.6"
  },
  "orig_nbformat": 4,
  "vscode": {
   "interpreter": {
    "hash": "7c12d72be3213e7f8702b6316db43fc41a31ebed98d72fce0d12fa49fb59f67c"
   }
  }
 },
 "nbformat": 4,
 "nbformat_minor": 2
}
