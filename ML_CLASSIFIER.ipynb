{
 "cells": [
  {
   "cell_type": "code",
   "execution_count": null,
   "metadata": {},
   "outputs": [],
   "source": [
    "#IMPORT OUR LIBRARIES\n",
    "import pandas as pd\n",
    "from selenium import webdriver\n",
    "from webdriver_manager.chrome import ChromeDriverManager\n",
    "from bs4 import BeautifulSoup"
   ]
  },
  {
   "cell_type": "code",
   "execution_count": null,
   "metadata": {},
   "outputs": [],
   "source": [
    "#STABLISH OUR DOMAIN AND OUR LIST OF WORDS\n",
    "sample = [] #LIST OF URLS\n",
    "ListaPalavras = []"
   ]
  },
  {
   "cell_type": "code",
   "execution_count": null,
   "metadata": {},
   "outputs": [],
   "source": [
    "#CALL THE WEBDRIVER\n",
    "driver = webdriver.Chrome(ChromeDriverManager().install())"
   ]
  },
  {
   "cell_type": "code",
   "execution_count": null,
   "metadata": {},
   "outputs": [],
   "source": [
    "#SEARCH INTO URLS FOR THE WORDS AND STORE IT INTO AN ARRAY\n",
    "for url in sample:\n",
    "    driver.get(url)\n",
    "    soup = BeautifulSoup(driver.page_source, 'html.parser')\n",
    "    texto = soup.get_text()\n",
    "    Lista = texto.split()\n",
    "    ListaOrdenada = set(Lista)\n",
    "    ListaFinal = list(ListaOrdenada)\n",
    "    for Termo in ListaFinal:\n",
    "        ocorrencias = ListaFinal.count(Termo)\n",
    "        Palavra = Termo\n",
    "        ListaPalavras.append([url, Palavra, ocorrencias])"
   ]
  },
  {
   "cell_type": "code",
   "execution_count": null,
   "metadata": {},
   "outputs": [],
   "source": [
    "#CREATE A DATAFRAME WITH THE WORDS AND THEN, GROUP AND ORDER BY NUMBER OF OCORRENCIES\n",
    "df = pd.DataFrame(ListaPalavras, columns=['URL', 'Termo', 'Ocorrencias'])\n",
    "df_agrupado = df.groupby(['Termo']).sum()\n",
    "df_ordenado = df_agrupado.sort_values(by='Ocorrencias')\n",
    "df_ordenado"
   ]
  },
  {
   "cell_type": "code",
   "execution_count": null,
   "metadata": {},
   "outputs": [],
   "source": [
    "#WE NOW HAVE TO CREATE OUR CLASSIFIER ALGORITHM, BASED IN OUR CONDITION (?) - WHAT WE WANT TO FIND?"
   ]
  }
 ],
 "metadata": {
  "kernelspec": {
   "display_name": "Python 3",
   "language": "python",
   "name": "python3"
  },
  "language_info": {
   "codemirror_mode": {
    "name": "ipython",
    "version": 3
   },
   "file_extension": ".py",
   "mimetype": "text/x-python",
   "name": "python",
   "nbconvert_exporter": "python",
   "pygments_lexer": "ipython3",
   "version": "3.10.8 (tags/v3.10.8:aaaf517, Oct 11 2022, 16:50:30) [MSC v.1933 64 bit (AMD64)]"
  },
  "orig_nbformat": 4,
  "vscode": {
   "interpreter": {
    "hash": "53c645b2bd2f0a0b1a9a7868c48add659a8fe1fe8abc40295b0c2b7f518b63b2"
   }
  }
 },
 "nbformat": 4,
 "nbformat_minor": 2
}
