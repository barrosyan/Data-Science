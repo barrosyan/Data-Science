{
 "cells": [
  {
   "cell_type": "code",
   "execution_count": 7,
   "metadata": {},
   "outputs": [],
   "source": [
    "import pandas as pd\n",
    "import numpy as np\n",
    "import seaborn as sns \n",
    "import matplotlib.pyplot as plt"
   ]
  },
  {
   "cell_type": "code",
   "execution_count": 8,
   "metadata": {},
   "outputs": [
    {
     "name": "stdout",
     "output_type": "stream",
     "text": [
      "<class 'pandas.core.frame.DataFrame'>\n",
      "RangeIndex: 100000 entries, 0 to 99999\n",
      "Data columns (total 19 columns):\n",
      " #   Column  Non-Null Count   Dtype  \n",
      "---  ------  --------------   -----  \n",
      " 0   Run     100000 non-null  int64  \n",
      " 1   Event   100000 non-null  int64  \n",
      " 2   E1      100000 non-null  float64\n",
      " 3   px1     100000 non-null  float64\n",
      " 4   py1     100000 non-null  float64\n",
      " 5   pz1     100000 non-null  float64\n",
      " 6   pt1     100000 non-null  float64\n",
      " 7   eta1    100000 non-null  float64\n",
      " 8   phi1    100000 non-null  float64\n",
      " 9   Q1      100000 non-null  int64  \n",
      " 10  E2      100000 non-null  float64\n",
      " 11  px2     100000 non-null  float64\n",
      " 12  py2     100000 non-null  float64\n",
      " 13  pz2     100000 non-null  float64\n",
      " 14  pt2     100000 non-null  float64\n",
      " 15  eta2    100000 non-null  float64\n",
      " 16  phi2    100000 non-null  float64\n",
      " 17  Q2      100000 non-null  int64  \n",
      " 18  M       99915 non-null   float64\n",
      "dtypes: float64(15), int64(4)\n",
      "memory usage: 14.5 MB\n"
     ]
    }
   ],
   "source": [
    "#LOADING THE DATA AND CREATING A DATAFRAME\n",
    "df = pd.read_csv(r'dielectron.csv')\n",
    "df.info()"
   ]
  },
  {
   "cell_type": "code",
   "execution_count": 9,
   "metadata": {},
   "outputs": [],
   "source": [
    "#Using the momentum conservatium and later, squared both sides, we acn analyze the energy of each colision, using relativistics concepts.\n",
    "TransversalMomentum1 = df['pt1'] #Transversal Momentum of the first particle\n",
    "TransversalMomentum1.to_numpy\n",
    "TransversalMomentum2 = df['pt2'] #Transversal Momentum of the second particle\n",
    "TransversalMomentum2.to_numpy\n",
    "Energy1 = df['E1'] #Energy of the first particle in GeV\n",
    "Energy1.to_numpy\n",
    "Energy2 = df['E2'] #Energy of the second particle in GeV\n",
    "Energy2.to_numpy\n",
    "LightSpeed = 299792458 #Light speed in meters per second\n",
    "MomentumVector1 = df[['px1 ', 'py1', 'pz1']] #Vectorial Momentum of the first particle\n",
    "MomentumVector1 = MomentumVector1.to_numpy()\n",
    "MomentumVector2 = df[['px2', 'py2', 'pz2']] #Vectorial Momentum of the second particle\n",
    "MomentumVector2 = MomentumVector2.to_numpy()"
   ]
  },
  {
   "cell_type": "markdown",
   "metadata": {},
   "source": [
    "<h4>#################################<h4>\n",
    "<h4>Physics Model (Relativistic Mechanic Collisions)<h4>\n",
    "<h4>#################################<h4>"
   ]
  },
  {
   "cell_type": "code",
   "execution_count": 10,
   "metadata": {},
   "outputs": [],
   "source": [
    "x = 0\n",
    "DotProduct = []\n",
    "while x < 100000:\n",
    "    DotProduct.append(np.dot(MomentumVector1[x], MomentumVector2[x]))\n",
    "    x+=1\n",
    "df['CollisionEnergy'] = abs((np.power(TransversalMomentum1, 2) + np.power(TransversalMomentum1,2) + 2*((Energy1*Energy2/LightSpeed)) - (DotProduct))/1000)"
   ]
  },
  {
   "cell_type": "code",
   "execution_count": 11,
   "metadata": {},
   "outputs": [
    {
     "data": {
      "image/png": "[encoded data removed]",
      "text/plain": [
       "<Figure size 640x480 with 1 Axes>"
      ]
     },
     "metadata": {},
     "output_type": "display_data"
    }
   ],
   "source": [
    "#Plotting a histogram to visualize the Collision Energy data\n",
    "fig, ax = plt.subplots()\n",
    "sns.set_style('darkgrid')\n",
    "sns.histplot(df.CollisionEnergy, ax=ax, stat='count', element='poly')\n",
    "ax.set_xlabel('Collision Energy (TeV)')\n",
    "ax.set_ylabel('Number of events')\n",
    "ax.set_xlim(0.01,8)\n",
    "ax.set_xticks(range(0,9))\n",
    "plt.show()\n"
   ]
  },
  {
   "cell_type": "code",
   "execution_count": 12,
   "metadata": {},
   "outputs": [
    {
     "name": "stdout",
     "output_type": "stream",
     "text": [
      "The maximum energy released in this dataset is:  108.56 TeV.\n",
      "The minimum energy released in this dataset is:  0.0 TeV.\n",
      "The mean of the energy values in this dataset is:  1.25 TeV.\n",
      "The median of the energy values in this dataset is:  0.55 TeV.\n"
     ]
    }
   ],
   "source": [
    "print('The maximum energy released in this dataset is: ', round(max(df['CollisionEnergy']),2), 'TeV.')\n",
    "print('The minimum energy released in this dataset is: ', round(min(df['CollisionEnergy']),2), 'TeV.')\n",
    "print('The mean of the energy values in this dataset is: ', round(np.mean(df['CollisionEnergy']),2), 'TeV.')\n",
    "print('The median of the energy values in this dataset is: ', round(np.median(df['CollisionEnergy']),2), 'TeV.')"
   ]
  },
  {
   "cell_type": "code",
   "execution_count": 13,
   "metadata": {},
   "outputs": [
    {
     "name": "stdout",
     "output_type": "stream",
     "text": [
      "I choose to exclude the minimum and the distant maximum values. This was chosen after analyze the whole histogram and noticing that the number of events with an higher energy than 8TeV is low. I choose to exclude the 0 energy events, by analyzing some small events (later, I'll add the limit element in this case). With the median and mean data, we can conclude that the most part of energy collisions is less than 2TeV.\n"
     ]
    }
   ],
   "source": [
    "Conclusion = \"I choose to exclude the minimum and the distant maximum values. This was chosen after analyze the whole histogram and noticing that the number of events with an higher energy than 8TeV is low. I choose to exclude the 0 energy events, by analyzing some small events (later, I'll add the limit element in this case). With the median and mean data, we can conclude that the most part of energy collisions is less than 2TeV.\"\n",
    "print(Conclusion)"
   ]
  },
  {
   "cell_type": "markdown",
   "metadata": {},
   "source": [
    "<h4>Mann, R. (2010). Chapter 2. In An introduction to particle physics and the standard model. essay, Taylor &amp; Francis.<h4>"
   ]
  }
 ],
 "metadata": {
  "kernelspec": {
   "display_name": "Python 3.10.6 64-bit",
   "language": "python",
   "name": "python3"
  },
  "language_info": {
   "codemirror_mode": {
    "name": "ipython",
    "version": 3
   },
   "file_extension": ".py",
   "mimetype": "text/x-python",
   "name": "python",
   "nbconvert_exporter": "python",
   "pygments_lexer": "ipython3",
   "version": "3.10.6"
  },
  "orig_nbformat": 4,
  "vscode": {
   "interpreter": {
    "hash": "7c12d72be3213e7f8702b6316db43fc41a31ebed98d72fce0d12fa49fb59f67c"
   }
  }
 },
 "nbformat": 4,
 "nbformat_minor": 2
}
