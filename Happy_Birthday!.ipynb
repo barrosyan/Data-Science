{
  "cells": [
    {
      "cell_type": "code",
      "execution_count": null,
      "metadata": {
        "id": "NjU_syQaH3I4",
        "outputId": "e240106c-6b60-4d86-f9d2-f018f57fe28c",
        "colab": {
          "base_uri": "https://localhost:8080/"
        }
      },
      "outputs": [
        {
          "output_type": "stream",
          "name": "stdout",
          "text": [
            "Bem-vinda à minha homenagem para seu aniversário, meu amor <3\n",
            "Nessa primeira etapa, estarei mostrando a você um panorama geral, estatístico, de um relacionamento como o nosso...\n"
          ]
        }
      ],
      "source": [
        "print(\"\"\"Bem-vinda à minha homenagem para seu aniversário, meu amor <3\n",
        "Nessa primeira etapa, estarei mostrando a você um panorama geral, estatístico, de um relacionamento como o nosso...\"\"\")"
      ]
    },
    {
      "cell_type": "code",
      "execution_count": null,
      "metadata": {
        "id": "FFU-j63GH3JE",
        "outputId": "6e5a1cea-7807-4730-a370-7b3fe155cf22",
        "colab": {
          "base_uri": "https://localhost:8080/"
        }
      },
      "outputs": [
        {
          "output_type": "stream",
          "name": "stdout",
          "text": [
            "Os dados informam que: Em 2019, a porcentagem de mulheres no mundo era de: 71.8 %. Mais do que o dobro do número de homens...\n"
          ]
        }
      ],
      "source": [
        "nmulheres = 5600000000\n",
        "nhomens = 2200000000\n",
        "prcmul = nmulheres/(nmulheres+nhomens)\n",
        "print(\"Os dados informam que: Em 2019, a porcentagem de mulheres no mundo era de:\", round(prcmul,3)*100,\"%. Mais do que o dobro do número de homens...\")"
      ]
    },
    {
      "cell_type": "code",
      "execution_count": null,
      "metadata": {
        "id": "yj3jX5zLH3JH",
        "outputId": "36b1789c-3277-4505-899b-d90d0a18a637",
        "colab": {
          "base_uri": "https://localhost:8080/"
        }
      },
      "outputs": [
        {
          "output_type": "stream",
          "name": "stdout",
          "text": [
            "Segundo análise da OMS, de mesmo ano, a chance de um homem ser bipolar é de: 0.51 %.\n"
          ]
        }
      ],
      "source": [
        "chancbipolar = 140000000/(nmulheres+nhomens)\n",
        "prchomem = nhomens/(nmulheres+nhomens)\n",
        "chanchombipolar = chancbipolar*prchomem\n",
        "print(\"Segundo análise da OMS, de mesmo ano, a chance de um homem ser bipolar é de:\", round(chanchombipolar,4)*100,\"%.\")"
      ]
    },
    {
      "cell_type": "code",
      "execution_count": null,
      "metadata": {
        "id": "AFvqnRrmH3JJ",
        "outputId": "faeb8517-72e9-4241-c00f-be3b74769447",
        "colab": {
          "base_uri": "https://localhost:8080/"
        }
      },
      "outputs": [
        {
          "output_type": "stream",
          "name": "stdout",
          "text": [
            "Ainda analisando-se os dados, vemos que a chance de uma mulher ser border é de: 0.88 %.\n"
          ]
        }
      ],
      "source": [
        "chancborder = 0.017*(prcmul)\n",
        "chancmulherborder = chancborder*prcmul\n",
        "print(\"Ainda analisando-se os dados, vemos que a chance de uma mulher ser border é de:\", round(chancmulherborder,4)*100,\"%.\")"
      ]
    },
    {
      "cell_type": "code",
      "execution_count": null,
      "metadata": {
        "id": "y9V4BsjDH3JL",
        "outputId": "82502cdc-1ae5-45de-e648-f11d9461d65e",
        "colab": {
          "base_uri": "https://localhost:8080/"
        }
      },
      "outputs": [
        {
          "output_type": "stream",
          "name": "stdout",
          "text": [
            "Considerando-se as nossas idades no casamento, vemos que a probabilidade de pessoas da nossa idade (na época do casamento) se casarem é de: 3.0 %.\n"
          ]
        }
      ],
      "source": [
        "prcthomemcasar = 0.23\n",
        "prctmulhercasar = 0.15\n",
        "prctcasamento = prcthomemcasar*prctmulhercasar\n",
        "print(\"Considerando-se as nossas idades no casamento, vemos que a probabilidade de pessoas da nossa idade (na época do casamento) se casarem é de:\", round(prctcasamento,2)*100,\"%.\")"
      ]
    },
    {
      "cell_type": "code",
      "execution_count": null,
      "metadata": {
        "id": "eTCJ9V4RH3JM",
        "outputId": "756b41e1-cfc4-4d13-f6aa-cfa1ab35232d",
        "colab": {
          "base_uri": "https://localhost:8080/"
        }
      },
      "outputs": [
        {
          "output_type": "stream",
          "name": "stdout",
          "text": [
            "Aqui entra um pouco do meu tato, onde irei estimar um valor de 65% para pessoas bipolares que se casam e de 43% de borders que se casam\n"
          ]
        }
      ],
      "source": [
        "print(\"Aqui entra um pouco do meu tato, onde irei estimar um valor de 65% para pessoas bipolares que se casam e de 43% de borders que se casam\")"
      ]
    },
    {
      "cell_type": "code",
      "execution_count": null,
      "metadata": {
        "id": "8wyxweRzH3JO",
        "outputId": "086d7af6-3997-4cf5-c62f-045b88bdea76",
        "colab": {
          "base_uri": "https://localhost:8080/"
        }
      },
      "outputs": [
        {
          "output_type": "stream",
          "name": "stdout",
          "text": [
            "Dessa forma, a probabilidade de um homem bipolar e uma mulher border, na nossa faixa etária (na época do casamento) \n",
            "se casarem, é de aproximadamente: 0.000040 %.\n"
          ]
        }
      ],
      "source": [
        "prct = (prctcasamento)*(chanchombipolar*0.65)*(chancmulherborder*0.43)\n",
        "print(\"\"\"Dessa forma, a probabilidade de um homem bipolar e uma mulher border, na nossa faixa etária (na época do casamento) \n",
        "se casarem, é de aproximadamente:\"\"\", \"{:f}\".format(round(prct,7)*100), \"%.\")"
      ]
    },
    {
      "cell_type": "code",
      "execution_count": null,
      "metadata": {
        "colab": {
          "base_uri": "https://localhost:8080/"
        },
        "id": "vaZjU8gvH3JP",
        "outputId": "4f5a9680-fb6c-4ad5-ec47-bb8bfa62621b"
      },
      "outputs": [
        {
          "output_type": "stream",
          "name": "stdout",
          "text": [
            "A cada 10000 estrelas que nascem em nossa galáxia, um casamento como o nosso acontece. Parece pouco? Considerando-se que temos 400 bilhões de estrelas em nossa galáxia, temos que a porcentagem de casamentos como o nosso, em comparação com o número de estrelas do universo é igual a: 000000025%. Ou seja, a cada 400 milhões de estrelas que nascem na nossa galáxia, um casamento como o nosso acontece!\n"
          ]
        }
      ],
      "source": [
        "numestrelasuniverso = 10000000000000000000000\n",
        "numestrelasvialactea = 400000000000\n",
        "porcentagemestrelasvialactea = numestrelasvialactea/numestrelasuniverso\n",
        "porcentagem = (0.00004/0.000000004)\n",
        "print(\"A cada 10000 estrelas que nascem em nossa galáxia, um casamento como o nosso acontece. Parece pouco? Considerando-se que temos 400 bilhões de estrelas em nossa galáxia, temos que a porcentagem de casamentos como o nosso, em comparação com o número de estrelas do universo é igual a: 000000025%. Ou seja, a cada 400 milhões de estrelas que nascem na nossa galáxia, um casamento como o nosso acontece!\")"
      ]
    },
    {
      "cell_type": "code",
      "execution_count": null,
      "metadata": {
        "id": "43-CVEw2H3JS"
      },
      "outputs": [],
      "source": []
    }
  ],
  "metadata": {
    "kernelspec": {
      "display_name": "Python 3.10.6 64-bit",
      "language": "python",
      "name": "python3"
    },
    "language_info": {
      "codemirror_mode": {
        "name": "ipython",
        "version": 3
      },
      "file_extension": ".py",
      "mimetype": "text/x-python",
      "name": "python",
      "nbconvert_exporter": "python",
      "pygments_lexer": "ipython3",
      "version": "3.10.6"
    },
    "orig_nbformat": 4,
    "vscode": {
      "interpreter": {
        "hash": "7c12d72be3213e7f8702b6316db43fc41a31ebed98d72fce0d12fa49fb59f67c"
      }
    },
    "colab": {
      "provenance": []
    }
  },
  "nbformat": 4,
  "nbformat_minor": 0
}