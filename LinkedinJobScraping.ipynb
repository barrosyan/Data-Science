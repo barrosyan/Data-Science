{
 "cells": [
  {
   "cell_type": "code",
   "execution_count": 60,
   "metadata": {},
   "outputs": [],
   "source": [
    "from selenium import webdriver\n",
    "from webdriver_manager.chrome import ChromeDriverManager\n",
    "import time\n",
    "from selenium.webdriver.common.by import By\n",
    "import pyautogui\n",
    "import json\n",
    "import os\n",
    "import pyodbc\n",
    "import pandas as pd"
   ]
  },
  {
   "cell_type": "code",
   "execution_count": 61,
   "metadata": {},
   "outputs": [],
   "source": [
    "def GetConfig():\n",
    "    global server\n",
    "    global port\n",
    "    global database\n",
    "    global username\n",
    "    global password\n",
    "\n",
    "    config   = json.loads(open('config.json').read())\n",
    "    server   = config['server']\n",
    "    port     = config['port']\n",
    "    database = config['database']\n",
    "    username = config['username']\n",
    "    password = config['password']"
   ]
  },
  {
   "cell_type": "code",
   "execution_count": 62,
   "metadata": {},
   "outputs": [],
   "source": [
    "def linkedinconfig():\n",
    "    global email\n",
    "    global psswrd\n",
    "    global keywords\n",
    "    global location\n",
    "\n",
    "    config = json.loads(open('linkedinconfig.json').read())\n",
    "    email = config['user']\n",
    "    psswrd = config['psswrd']\n",
    "    keywords = config['keywords']\n",
    "    location = config['location']"
   ]
  },
  {
   "cell_type": "code",
   "execution_count": 63,
   "metadata": {},
   "outputs": [],
   "source": [
    "def connection():\n",
    "    os.system('cls')\n",
    "    print(\"[INFO] Abrindo conexão com banco de dados...\")\n",
    "    global CURSOR\n",
    "    global CNXN\n",
    "    while True:\n",
    "        try:\n",
    "            CNXN = pyodbc.connect(\n",
    "                'DRIVER={ODBC Driver 17 for SQL Server};SERVER=' + server + ',' +\n",
    "                port + ';DATABASE=' +\n",
    "                database + ';UID=' +\n",
    "                username + ';PWD=' + password)\n",
    "            CURSOR = CNXN.cursor()\n",
    "            os.system('cls')\n",
    "            print(\"[INFO] Conexão realizada com sucesso.\")\n",
    "            break\n",
    "        except pyodbc.Error as ex:\n",
    "            sleep(5)"
   ]
  },
  {
   "cell_type": "code",
   "execution_count": 64,
   "metadata": {},
   "outputs": [],
   "source": [
    "def db_close():\n",
    "    CURSOR.close()\n",
    "    CNXN.close()"
   ]
  },
  {
   "cell_type": "code",
   "execution_count": 65,
   "metadata": {},
   "outputs": [],
   "source": [
    "def fetch(sql):\n",
    "    return pd.read_sql_query(sql, CNXN)"
   ]
  },
  {
   "cell_type": "code",
   "execution_count": 66,
   "metadata": {},
   "outputs": [],
   "source": [
    "def insert(conteudo, cursor):\n",
    "    sql = \"INSERT INTO LinkedinVagas (CodVaga, Cargo, Localização, Conteudo) VALUES (?, ?, ?, ?, GetDate())\"\n",
    "    \n",
    "    cursor.executemany(sql, conteudo)"
   ]
  },
  {
   "cell_type": "code",
   "execution_count": 67,
   "metadata": {},
   "outputs": [],
   "source": [
    "def scroll(driver):\n",
    "    SCROLL_PAUSE_TIME = 0.5\n",
    "\n",
    "# Get scroll height\n",
    "    last_height = driver.execute_script(\"return document.body.scrollHeight\")\n",
    "\n",
    "    while True:\n",
    "    # Scroll down to bottom\n",
    "        driver.execute_script(\"window.scrollTo(0, document.body.scrollHeight);\")\n",
    "\n",
    "    # Wait to load page\n",
    "        time.sleep(SCROLL_PAUSE_TIME)\n",
    "\n",
    "    # Calculate new scroll height and compare with last scroll height\n",
    "        new_height = driver.execute_script(\"return document.body.scrollHeight\")\n",
    "        if new_height == last_height:\n",
    "            break\n",
    "        last_height = new_height"
   ]
  },
  {
   "cell_type": "code",
   "execution_count": 68,
   "metadata": {},
   "outputs": [],
   "source": [
    "#CURSOR, CNXN = None, None"
   ]
  },
  {
   "cell_type": "code",
   "execution_count": 69,
   "metadata": {},
   "outputs": [],
   "source": [
    "#GetConfig()\n",
    "#connection()"
   ]
  },
  {
   "cell_type": "code",
   "execution_count": 70,
   "metadata": {},
   "outputs": [
    {
     "name": "stderr",
     "output_type": "stream",
     "text": [
      "C:\\Users\\Yan\\AppData\\Local\\Temp\\ipykernel_14272\\2833837589.py:6: DeprecationWarning: executable_path has been deprecated, please pass in a Service object\n",
      "  driver = webdriver.Chrome(ChromeDriverManager().install())\n"
     ]
    }
   ],
   "source": [
    "linkedinconfig()\n",
    "\n",
    "#CRIANDO DATAFRAME PARA ARMAZENAR OS DADOS\n",
    "\n",
    "#ENTRANDO NA URL \n",
    "driver = webdriver.Chrome(ChromeDriverManager().install())\n",
    "driver.maximize_window()\n",
    "driver.get(\"https://www.linkedin.com/login/pt?session\")\n",
    "\n",
    "time.sleep(5)"
   ]
  },
  {
   "cell_type": "code",
   "execution_count": 71,
   "metadata": {},
   "outputs": [
    {
     "name": "stdout",
     "output_type": "stream",
     "text": [
      "Biostatistician 1 ( Office/Home-Based, LATAM) - IQVIA Biotech\n",
      "IQVIA\n",
      "São Paulo, São Paulo, Brasil\n",
      "Presencial\n",
      "Você tem um selo de competência preferencial\n",
      "Há 2 horas\n",
      "Nas últimas 24 horas\n",
      "Data Analytics & AI Solutions - REMOTE\n",
      "UL\n",
      "Brasil\n",
      "Remoto\n",
      "Você tem um selo de competência preferencial\n",
      "Há 1 dia\n",
      "24 candidaturas\n",
      "Data Analytics & AI Solutions - REMOTE\n",
      "UL\n",
      "São Paulo, São Paulo, Brasil\n",
      "Remoto\n",
      "Você tem um selo de competência preferencial\n",
      "Há 1 dia\n",
      "17 candidaturas\n",
      "Data Analytics & AI Solutions - REMOTE\n",
      "UL\n",
      "São Paulo, São Paulo, Brasil\n",
      "Remoto\n",
      "Você tem um selo de competência preferencial\n",
      "Há 1 dia\n",
      "Cientista de Dados Jr\n",
      "Fretebras\n",
      "São Paulo, São Paulo, Brasil\n",
      "Remoto\n",
      "2 ex-estudantes trabalham aqui\n",
      "Há 1 semana\n",
      "Data Scientist - Machine Learning\n",
      "MUSA\n",
      "São Paulo, São Paulo, Brasil\n",
      "Remoto\n",
      "Você tem um selo de competência preferencial\n",
      "Há 3 dias\n",
      "Data Scientist\n",
      "Topaz\n",
      "Brasil\n",
      "Remoto\n",
      "Combina com seu perfil\n",
      "Há 3 semanas\n"
     ]
    }
   ],
   "source": [
    "#LOGANDO NA CONTA\n",
    "driver.find_element(By.ID, \"username\").send_keys(email)\n",
    "driver.find_element(By.ID, \"password\").send_keys(psswrd)\n",
    "time.sleep(0.5)\n",
    "pyautogui.hotkey('enter')\n",
    "time.sleep(30)\n",
    "\n",
    "#ABRINDO A ABA DE VAGAS\n",
    "driver.get('https://www.linkedin.com/jobs/')\n",
    "time.sleep(15)\n",
    "driver.find_element(By.ID, \"keyword-typeahead-instance-ember24\").click()\n",
    "pyautogui.typewrite(keywords, interval=0.15)\n",
    "pyautogui.hotkey('tab')\n",
    "time.sleep(0.5)\n",
    "pyautogui.typewrite(location, interval=0.15)\n",
    "pyautogui.hotkey('enter')\n",
    "time.sleep(10)\n",
    "#COLETANDO AS INFORMAÇÕES\n",
    "scroll(driver)      \n",
    "time.sleep(5)\n",
    "jobs_list = driver.find_elements(By.CLASS_NAME, 'scaffold-layout__list-container')\n",
    "for job in jobs_list:\n",
    "    print(job.text)\n",
    "    time.sleep(2)"
   ]
  },
  {
   "cell_type": "code",
   "execution_count": null,
   "metadata": {},
   "outputs": [],
   "source": [
    "#NEXT STEPS - V1\n",
    "\"\"\"1.SCROLL JOB WINDOW TO GET ALL THE INFORMATION;\n",
    "   2. GET THE COMPLETE INFORMATION BY CLICKING IN EACH JOB;\n",
    "   3. JUMP TO ALL THE PAGES COLLECTING INFORMATION;\n",
    "   4. STORE THE DATA INTO A SQL DATABASE WITH PYODBC.\"\"\""
   ]
  }
 ],
 "metadata": {
  "kernelspec": {
   "display_name": "Python 3.10.6 64-bit",
   "language": "python",
   "name": "python3"
  },
  "language_info": {
   "codemirror_mode": {
    "name": "ipython",
    "version": 3
   },
   "file_extension": ".py",
   "mimetype": "text/x-python",
   "name": "python",
   "nbconvert_exporter": "python",
   "pygments_lexer": "ipython3",
   "version": "3.10.6"
  },
  "orig_nbformat": 4,
  "vscode": {
   "interpreter": {
    "hash": "7c12d72be3213e7f8702b6316db43fc41a31ebed98d72fce0d12fa49fb59f67c"
   }
  }
 },
 "nbformat": 4,
 "nbformat_minor": 2
}
